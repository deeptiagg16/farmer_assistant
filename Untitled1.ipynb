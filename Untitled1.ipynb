{
  "nbformat": 4,
  "nbformat_minor": 0,
  "metadata": {
    "colab": {
      "name": "Untitled1.ipynb",
      "provenance": [],
      "include_colab_link": true
    },
    "kernelspec": {
      "name": "python3",
      "display_name": "Python 3"
    }
  },
  "cells": [
    {
      "cell_type": "markdown",
      "metadata": {
        "id": "view-in-github",
        "colab_type": "text"
      },
      "source": [
        "<a href=\"https://colab.research.google.com/github/deeptiagg16/farmer_assistant/blob/master/Untitled1.ipynb\" target=\"_parent\"><img src=\"https://colab.research.google.com/assets/colab-badge.svg\" alt=\"Open In Colab\"/></a>"
      ]
    },
    {
      "cell_type": "code",
      "metadata": {
        "id": "bNVW5o0YEm7Q",
        "colab_type": "code",
        "colab": {}
      },
      "source": [
        "import pandas\n"
      ],
      "execution_count": 0,
      "outputs": []
    },
    {
      "cell_type": "code",
      "metadata": {
        "id": "9GUNBYoHFvh9",
        "colab_type": "code",
        "colab": {
          "resources": {
            "http://localhost:8080/nbextensions/google.colab/files.js": {
              "data": "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",
              "ok": true,
              "headers": [
                [
                  "content-type",
                  "application/javascript"
                ]
              ],
              "status": 200,
              "status_text": ""
            }
          },
          "base_uri": "https://localhost:8080/",
          "height": 74
        },
        "outputId": "00fd0412-ad40-434a-ed16-f7d87df23a9d"
      },
      "source": [
        "from google.colab import files\n",
        "uploaded = files.upload()\n"
      ],
      "execution_count": 5,
      "outputs": [
        {
          "output_type": "display_data",
          "data": {
            "text/html": [
              "\n",
              "     <input type=\"file\" id=\"files-306e3d8c-8d51-4154-9296-66a03756ec16\" name=\"files[]\" multiple disabled />\n",
              "     <output id=\"result-306e3d8c-8d51-4154-9296-66a03756ec16\">\n",
              "      Upload widget is only available when the cell has been executed in the\n",
              "      current browser session. Please rerun this cell to enable.\n",
              "      </output>\n",
              "      <script src=\"/nbextensions/google.colab/files.js\"></script> "
            ],
            "text/plain": [
              "<IPython.core.display.HTML object>"
            ]
          },
          "metadata": {
            "tags": []
          }
        },
        {
          "output_type": "stream",
          "text": [
            "Saving crop_production.csv to crop_production.csv\n"
          ],
          "name": "stdout"
        }
      ]
    },
    {
      "cell_type": "code",
      "metadata": {
        "id": "7L_9jlEYGhYT",
        "colab_type": "code",
        "colab": {
          "base_uri": "https://localhost:8080/",
          "height": 1000
        },
        "outputId": "35c61e42-7ccf-45e6-8f60-f36e5ec56965"
      },
      "source": [
        "data = pandas.read_csv('crop_production.csv')\n",
        "data = data.drop('Crop_Year',1)\n",
        "from sklearn.preprocessing import LabelEncoder \n",
        "print(np.unique(data['Crop']))\n",
        "le = LabelEncoder() \n",
        "  \n",
        "data['Crop']= le.fit_transform(data['Crop']) \n",
        "data['State_Name']= le.fit_transform(data['State_Name'])\n",
        "data['District_Name']= le.fit_transform(data['District_Name'])\n",
        "data['Season']= le.fit_transform(data['Season']) \n",
        "print(data)"
      ],
      "execution_count": 127,
      "outputs": [
        {
          "output_type": "stream",
          "text": [
            "['Apple' 'Arcanut (Processed)' 'Arecanut' 'Arhar/Tur' 'Ash Gourd'\n",
            " 'Atcanut (Raw)' 'Bajra' 'Banana' 'Barley' 'Bean'\n",
            " 'Beans & Mutter(Vegetable)' 'Beet Root' 'Ber' 'Bhindi' 'Bitter Gourd'\n",
            " 'Black pepper' 'Blackgram' 'Bottle Gourd' 'Brinjal' 'Cabbage' 'Cardamom'\n",
            " 'Carrot' 'Cashewnut' 'Cashewnut Processed' 'Cashewnut Raw' 'Castor seed'\n",
            " 'Cauliflower' 'Citrus Fruit' 'Coconut ' 'Coffee' 'Colocosia'\n",
            " 'Cond-spcs other' 'Coriander' 'Cotton(lint)' 'Cowpea(Lobia)' 'Cucumber'\n",
            " 'Drum Stick' 'Dry chillies' 'Dry ginger' 'Garlic' 'Ginger' 'Gram'\n",
            " 'Grapes' 'Groundnut' 'Guar seed' 'Horse-gram' 'Jack Fruit' 'Jobster'\n",
            " 'Jowar' 'Jute' 'Jute & mesta' 'Kapas' 'Khesari' 'Korra' 'Lab-Lab' 'Lemon'\n",
            " 'Lentil' 'Linseed' 'Litchi' 'Maize' 'Mango' 'Masoor' 'Mesta'\n",
            " 'Moong(Green Gram)' 'Moth' 'Niger seed' 'Oilseeds total' 'Onion' 'Orange'\n",
            " 'Other  Rabi pulses' 'Other Cereals & Millets' 'Other Citrus Fruit'\n",
            " 'Other Dry Fruit' 'Other Fresh Fruits' 'Other Kharif pulses'\n",
            " 'Other Vegetables' 'Paddy' 'Papaya' 'Peach' 'Pear' 'Peas  (vegetable)'\n",
            " 'Peas & beans (Pulses)' 'Perilla' 'Pineapple' 'Plums' 'Pome Fruit'\n",
            " 'Pome Granet' 'Potato' 'Pulses total' 'Pump Kin' 'Ragi' 'Rajmash Kholar'\n",
            " 'Rapeseed &Mustard' 'Redish' 'Ribed Guard' 'Rice' 'Ricebean (nagadal)'\n",
            " 'Rubber' 'Safflower' 'Samai' 'Sannhamp' 'Sapota' 'Sesamum'\n",
            " 'Small millets' 'Snak Guard' 'Soyabean' 'Sugarcane' 'Sunflower'\n",
            " 'Sweet potato' 'Tapioca' 'Tea' 'Tobacco' 'Tomato' 'Total foodgrain'\n",
            " 'Turmeric' 'Turnip' 'Urad' 'Varagu' 'Water Melon' 'Wheat' 'Yam'\n",
            " 'other fibres' 'other misc. pulses' 'other oilseeds']\n",
            "        State_Name  District_Name  Season  Crop      Area   Production\n",
            "0                0            427       1     2    1254.0      2000.00\n",
            "1                0            427       1    74       2.0         1.00\n",
            "2                0            427       1    95     102.0       321.00\n",
            "3                0            427       4     7     176.0       641.00\n",
            "4                0            427       4    22     720.0       165.00\n",
            "5                0            427       4    28   18168.0  65100000.00\n",
            "6                0            427       4    38      36.0       100.00\n",
            "7                0            427       4   106       1.0         2.00\n",
            "8                0            427       4   108       5.0        15.00\n",
            "9                0            427       4   109      40.0       169.00\n",
            "10               0            427       1     2    1254.0      2061.00\n",
            "11               0            427       1    74       2.0         1.00\n",
            "12               0            427       1    95      83.0       300.00\n",
            "13               0            427       4    22     719.0       192.00\n",
            "14               0            427       4    28   18190.0  64430000.00\n",
            "15               0            427       4    38      46.0       100.00\n",
            "16               0            427       4   106       1.0         1.00\n",
            "17               0            427       4   108      11.0        33.00\n",
            "18               0            427       1    95     189.2       510.84\n",
            "19               0            427       4     2    1258.0      2083.00\n",
            "20               0            427       4     7     213.0      1278.00\n",
            "21               0            427       4    15      63.0        13.50\n",
            "22               0            427       4    22     719.0       208.00\n",
            "23               0            427       4    28   18240.0  67490000.00\n",
            "24               0            427       4    37     413.0        28.80\n",
            "25               0            427       4    38      47.3       133.00\n",
            "26               0            427       4   106       5.0        40.00\n",
            "27               0            427       1    95      52.0        90.17\n",
            "28               0            427       4     2    1261.0      1525.00\n",
            "29               0            427       4     7     266.0      1763.00\n",
            "...            ...            ...     ...   ...       ...          ...\n",
            "246061          32            471       1     6      49.0        19.00\n",
            "246062          32            471       1    62     159.0      2065.00\n",
            "246063          32            471       1    63     181.0       100.00\n",
            "246064          32            471       1    64      16.0        14.00\n",
            "246065          32            471       1    65     204.0        74.00\n",
            "246066          32            471       1    74      79.0        39.00\n",
            "246067          32            471       1   100     171.0       727.00\n",
            "246068          32            471       1   105      18.0         7.00\n",
            "246069          32            471       1   107      46.0        42.00\n",
            "246070          32            471       1   116   11493.0      3287.00\n",
            "246071          32            471       2     3     671.0       723.00\n",
            "246072          32            471       2    41     198.0       203.00\n",
            "246073          32            471       2    43      30.0        25.00\n",
            "246074          32            471       2    45     660.0       332.00\n",
            "246075          32            471       2    52     146.0       126.00\n",
            "246076          32            471       2    57     160.0        51.00\n",
            "246077          32            471       2    61      31.0        19.00\n",
            "246078          32            471       2    63      64.0        40.00\n",
            "246079          32            471       2    81      12.0        12.00\n",
            "246080          32            471       2    87     477.0      9995.00\n",
            "246081          32            471       2    92    1885.0      1508.00\n",
            "246082          32            471       2    98      54.0        37.00\n",
            "246083          32            471       2   116     220.0       113.00\n",
            "246084          32            471       2   119    1622.0      3663.00\n",
            "246085          32            471       3    59     325.0      2039.00\n",
            "246086          32            471       3    95     306.0       801.00\n",
            "246087          32            471       3   102     627.0       463.00\n",
            "246088          32            471       4   106     324.0     16250.00\n",
            "246089          32            471       5    95  279151.0    597899.00\n",
            "246090          32            471       5   102     175.0        88.00\n",
            "\n",
            "[246091 rows x 6 columns]\n"
          ],
          "name": "stdout"
        }
      ]
    },
    {
      "cell_type": "code",
      "metadata": {
        "id": "mU1gTAtqhCyg",
        "colab_type": "code",
        "colab": {
          "base_uri": "https://localhost:8080/",
          "height": 141
        },
        "outputId": "0356c4b7-cfc7-443e-bf61-3dc52e5eb556"
      },
      "source": [
        "import numpy as np\n",
        "data = np.array(data)\n",
        "data = data[data[:,4]<500000]\n",
        "print(data)"
      ],
      "execution_count": 109,
      "outputs": [
        {
          "output_type": "stream",
          "text": [
            "[[0.00000e+00 4.27000e+02 1.00000e+00 2.00000e+00 1.25400e+03 2.00000e+03]\n",
            " [0.00000e+00 4.27000e+02 1.00000e+00 7.40000e+01 2.00000e+00 1.00000e+00]\n",
            " [0.00000e+00 4.27000e+02 1.00000e+00 9.50000e+01 1.02000e+02 3.21000e+02]\n",
            " ...\n",
            " [3.20000e+01 4.71000e+02 4.00000e+00 1.06000e+02 3.24000e+02 1.62500e+04]\n",
            " [3.20000e+01 4.71000e+02 5.00000e+00 9.50000e+01 2.79151e+05 5.97899e+05]\n",
            " [3.20000e+01 4.71000e+02 5.00000e+00 1.02000e+02 1.75000e+02 8.80000e+01]]\n"
          ],
          "name": "stdout"
        }
      ]
    },
    {
      "cell_type": "code",
      "metadata": {
        "id": "0_ekuK7VHcuM",
        "colab_type": "code",
        "colab": {
          "base_uri": "https://localhost:8080/",
          "height": 34
        },
        "outputId": "90ab4a60-a56a-4fb4-bd7d-b86cf7f54390"
      },
      "source": [
        "import numpy as np\n",
        "X=data[:,0:4]\n",
        "X=np.array(X)\n",
        "#print(X)\n",
        "Y=data[:,5]\n",
        "Y=np.array(Y)\n",
        "\n",
        "#print(Y[ Y > 500000 ].size)\n",
        "#Y= Y[Y<500000]\n",
        "Y1=np.array(Y)\n",
        "#print(Y)\n",
        "from sklearn import preprocessing\n",
        "#Y = preprocessing.normalize(Y.reshape(-1,1))\n",
        "for i in range(Y.size):\n",
        "  if Y[i]>200000:\n",
        "    Y1[i]=4\n",
        "  elif Y[i]>100000 and Y[i]<200000:\n",
        "    Y1[i]=3\n",
        "  elif Y[i]>10000:\n",
        "    Y1[i]=2\n",
        "  else:\n",
        "    Y1[i]=1\n",
        "  \n",
        "print(Y1)"
      ],
      "execution_count": 111,
      "outputs": [
        {
          "output_type": "stream",
          "text": [
            "[1. 1. 1. ... 2. 4. 1.]\n"
          ],
          "name": "stdout"
        }
      ]
    },
    {
      "cell_type": "code",
      "metadata": {
        "id": "RNVXb1s5JMML",
        "colab_type": "code",
        "colab": {
          "base_uri": "https://localhost:8080/",
          "height": 34
        },
        "outputId": "fa564e4f-7005-4223-cad7-f9c9ac86e311"
      },
      "source": [
        "from sklearn.model_selection import train_test_split\n",
        "X_train, X_test, y_train, y_test = train_test_split( X, Y1, test_size=0.2, random_state=42)\n",
        "print(len(X_train))"
      ],
      "execution_count": 112,
      "outputs": [
        {
          "output_type": "stream",
          "text": [
            "196770\n"
          ],
          "name": "stdout"
        }
      ]
    },
    {
      "cell_type": "code",
      "metadata": {
        "id": "1PSV1Oo5NIOl",
        "colab_type": "code",
        "colab": {}
      },
      "source": [
        "from keras.models import Sequential\n",
        "from keras.layers import Dense\n"
      ],
      "execution_count": 0,
      "outputs": []
    },
    {
      "cell_type": "code",
      "metadata": {
        "id": "d_QaLSSfPElM",
        "colab_type": "code",
        "colab": {
          "base_uri": "https://localhost:8080/",
          "height": 763
        },
        "outputId": "a5c63359-3eda-4626-d7d2-27518ba5950d"
      },
      "source": [
        "model = Sequential()\n",
        "model.add(Dense(12, input_dim=4, activation='relu'))\n",
        "model.add(Dense(8, activation='relu'))\n",
        "model.add(Dense(1, activation='sigmoid'))\n",
        "model.compile(loss='binary_crossentropy', optimizer='adam', metrics=['accuracy'])\n",
        "model.fit(X_train, y_train, epochs=20, batch_size=100)\n",
        "_, accuracy = model.evaluate(X_test, y_test)\n",
        "print('Accuracy: %.2f' % (accuracy*100))"
      ],
      "execution_count": 116,
      "outputs": [
        {
          "output_type": "stream",
          "text": [
            "Epoch 1/20\n",
            "196770/196770 [==============================] - 3s 14us/step - loss: -5.3241 - acc: 0.7846\n",
            "Epoch 2/20\n",
            "196770/196770 [==============================] - 3s 14us/step - loss: -5.3367 - acc: 0.7846\n",
            "Epoch 3/20\n",
            "196770/196770 [==============================] - 2s 13us/step - loss: -5.3367 - acc: 0.7846\n",
            "Epoch 4/20\n",
            "196770/196770 [==============================] - 2s 13us/step - loss: -5.3367 - acc: 0.7846\n",
            "Epoch 5/20\n",
            "196770/196770 [==============================] - 2s 12us/step - loss: -5.3367 - acc: 0.7846\n",
            "Epoch 6/20\n",
            "196770/196770 [==============================] - 3s 13us/step - loss: -5.3367 - acc: 0.7846\n",
            "Epoch 7/20\n",
            "196770/196770 [==============================] - 2s 12us/step - loss: -5.3367 - acc: 0.7846\n",
            "Epoch 8/20\n",
            "196770/196770 [==============================] - 2s 12us/step - loss: -5.3367 - acc: 0.7846\n",
            "Epoch 9/20\n",
            "196770/196770 [==============================] - 2s 12us/step - loss: -5.3367 - acc: 0.7846\n",
            "Epoch 10/20\n",
            "196770/196770 [==============================] - 2s 12us/step - loss: -5.3367 - acc: 0.7846\n",
            "Epoch 11/20\n",
            "196770/196770 [==============================] - 2s 12us/step - loss: -5.3367 - acc: 0.7846\n",
            "Epoch 12/20\n",
            "196770/196770 [==============================] - 3s 13us/step - loss: -5.3367 - acc: 0.7846\n",
            "Epoch 13/20\n",
            "196770/196770 [==============================] - 2s 12us/step - loss: -5.3367 - acc: 0.7846\n",
            "Epoch 14/20\n",
            "196770/196770 [==============================] - 2s 13us/step - loss: -5.3367 - acc: 0.7846\n",
            "Epoch 15/20\n",
            "196770/196770 [==============================] - 2s 13us/step - loss: -5.3367 - acc: 0.7846\n",
            "Epoch 16/20\n",
            "196770/196770 [==============================] - 3s 13us/step - loss: -5.3367 - acc: 0.7846\n",
            "Epoch 17/20\n",
            "196770/196770 [==============================] - 2s 12us/step - loss: -5.3367 - acc: 0.7846\n",
            "Epoch 18/20\n",
            "196770/196770 [==============================] - 3s 13us/step - loss: -5.3367 - acc: 0.7846\n",
            "Epoch 19/20\n",
            "196770/196770 [==============================] - 2s 13us/step - loss: -5.3367 - acc: 0.7846\n",
            "Epoch 20/20\n",
            "196770/196770 [==============================] - 3s 13us/step - loss: -5.3367 - acc: 0.7846\n",
            "49193/49193 [==============================] - 1s 20us/step\n",
            "Accuracy: 78.63\n"
          ],
          "name": "stdout"
        }
      ]
    },
    {
      "cell_type": "code",
      "metadata": {
        "id": "PH_IdYCvmXtK",
        "colab_type": "code",
        "colab": {
          "base_uri": "https://localhost:8080/",
          "height": 34
        },
        "outputId": "bf7d273a-7784-4761-e9b3-22c3bc1ff7a8"
      },
      "source": [
        "print(np.max(data[:,2])) "
      ],
      "execution_count": 123,
      "outputs": [
        {
          "output_type": "stream",
          "text": [
            "5.0\n"
          ],
          "name": "stdout"
        }
      ]
    },
    {
      "cell_type": "code",
      "metadata": {
        "id": "M90Nh_e2m-Fz",
        "colab_type": "code",
        "colab": {}
      },
      "source": [
        "places = ['Andaman and Nicobar Islands' 'Andhra Pradesh' 'Arunachal Pradesh'\n",
        " 'Assam' 'Bihar' 'Chandigarh' 'Chhattisgarh' 'Dadra and Nagar Haveli'\n",
        " 'Goa' 'Gujarat' 'Haryana' 'Himachal Pradesh' 'Jammu and Kashmir '\n",
        " 'Jharkhand' 'Karnataka' 'Kerala' 'Madhya Pradesh' 'Maharashtra' 'Manipur'\n",
        " 'Meghalaya' 'Mizoram' 'Nagaland' 'Odisha' 'Puducherry' 'Punjab'\n",
        " 'Rajasthan' 'Sikkim' 'Tamil Nadu' 'Telangana ' 'Tripura' 'Uttar Pradesh'\n",
        " 'Uttarakhand' 'West Bengal']\n",
        " district = ['24 PARAGANAS NORTH' '24 PARAGANAS SOUTH' 'ADILABAD' 'AGAR MALWA' 'AGRA'\n",
        " 'AHMADABAD' 'AHMEDNAGAR' 'AIZAWL' 'AJMER' 'AKOLA' 'ALAPPUZHA' 'ALIGARH'\n",
        " 'ALIRAJPUR' 'ALLAHABAD' 'ALMORA' 'ALWAR' 'AMBALA' 'AMBEDKAR NAGAR'\n",
        " 'AMETHI' 'AMRAVATI' 'AMRELI' 'AMRITSAR' 'AMROHA' 'ANAND' 'ANANTAPUR'\n",
        " 'ANANTNAG' 'ANJAW' 'ANUGUL' 'ANUPPUR' 'ARARIA' 'ARIYALUR' 'ARWAL'\n",
        " 'ASHOKNAGAR' 'AURAIYA' 'AURANGABAD' 'AZAMGARH' 'BADGAM' 'BAGALKOT'\n",
        " 'BAGESHWAR' 'BAGHPAT' 'BAHRAICH' 'BAKSA' 'BALAGHAT' 'BALANGIR'\n",
        " 'BALESHWAR' 'BALLIA' 'BALOD' 'BALODA BAZAR' 'BALRAMPUR' 'BANAS KANTHA'\n",
        " 'BANDA' 'BANDIPORA' 'BANGALORE RURAL' 'BANKA' 'BANKURA' 'BANSWARA'\n",
        " 'BARABANKI' 'BARAMULLA' 'BARAN' 'BARDHAMAN' 'BAREILLY' 'BARGARH' 'BARMER'\n",
        " 'BARNALA' 'BARPETA' 'BARWANI' 'BASTAR' 'BASTI' 'BATHINDA' 'BEED'\n",
        " 'BEGUSARAI' 'BELGAUM' 'BELLARY' 'BEMETARA' 'BENGALURU URBAN' 'BETUL'\n",
        " 'BHADRAK' 'BHAGALPUR' 'BHANDARA' 'BHARATPUR' 'BHARUCH' 'BHAVNAGAR'\n",
        " 'BHILWARA' 'BHIND' 'BHIWANI' 'BHOJPUR' 'BHOPAL' 'BIDAR' 'BIJAPUR'\n",
        " 'BIJNOR' 'BIKANER' 'BILASPUR' 'BIRBHUM' 'BISHNUPUR' 'BOKARO' 'BONGAIGAON'\n",
        " 'BOUDH' 'BUDAUN' 'BULANDSHAHR' 'BULDHANA' 'BUNDI' 'BURHANPUR' 'BUXAR'\n",
        " 'CACHAR' 'CHAMARAJANAGAR' 'CHAMBA' 'CHAMOLI' 'CHAMPAWAT' 'CHAMPHAI'\n",
        " 'CHANDAULI' 'CHANDEL' 'CHANDIGARH' 'CHANDRAPUR' 'CHANGLANG' 'CHATRA'\n",
        " 'CHHATARPUR' 'CHHINDWARA' 'CHIKBALLAPUR' 'CHIKMAGALUR' 'CHIRANG'\n",
        " 'CHITRADURGA' 'CHITRAKOOT' 'CHITTOOR' 'CHITTORGARH' 'CHURACHANDPUR'\n",
        " 'CHURU' 'COIMBATORE' 'COOCHBEHAR' 'CUDDALORE' 'CUTTACK'\n",
        " 'DADRA AND NAGAR HAVELI' 'DAKSHIN KANNAD' 'DAMOH' 'DANG' 'DANTEWADA'\n",
        " 'DARBHANGA' 'DARJEELING' 'DARRANG' 'DATIA' 'DAUSA' 'DAVANGERE' 'DEHRADUN'\n",
        " 'DEOGARH' 'DEOGHAR' 'DEORIA' 'DEWAS' 'DHALAI' 'DHAMTARI' 'DHANBAD' 'DHAR'\n",
        " 'DHARMAPURI' 'DHARWAD' 'DHEMAJI' 'DHENKANAL' 'DHOLPUR' 'DHUBRI' 'DHULE'\n",
        " 'DIBANG VALLEY' 'DIBRUGARH' 'DIMA HASAO' 'DIMAPUR' 'DINAJPUR DAKSHIN'\n",
        " 'DINAJPUR UTTAR' 'DINDIGUL' 'DINDORI' 'DODA' 'DOHAD' 'DUMKA' 'DUNGARPUR'\n",
        " 'DURG' 'EAST DISTRICT' 'EAST GARO HILLS' 'EAST GODAVARI'\n",
        " 'EAST JAINTIA HILLS' 'EAST KAMENG' 'EAST KHASI HILLS' 'EAST SIANG'\n",
        " 'EAST SINGHBUM' 'ERNAKULAM' 'ERODE' 'ETAH' 'ETAWAH' 'FAIZABAD'\n",
        " 'FARIDABAD' 'FARIDKOT' 'FARRUKHABAD' 'FATEHABAD' 'FATEHGARH SAHIB'\n",
        " 'FATEHPUR' 'FAZILKA' 'FIROZABAD' 'FIROZEPUR' 'GADAG' 'GADCHIROLI'\n",
        " 'GAJAPATI' 'GANDERBAL' 'GANDHINAGAR' 'GANGANAGAR' 'GANJAM' 'GARHWA'\n",
        " 'GARIYABAND' 'GAUTAM BUDDHA NAGAR' 'GAYA' 'GHAZIABAD' 'GHAZIPUR'\n",
        " 'GIRIDIH' 'GOALPARA' 'GODDA' 'GOLAGHAT' 'GOMATI' 'GONDA' 'GONDIA'\n",
        " 'GOPALGANJ' 'GORAKHPUR' 'GULBARGA' 'GUMLA' 'GUNA' 'GUNTUR' 'GURDASPUR'\n",
        " 'GURGAON' 'GWALIOR' 'HAILAKANDI' 'HAMIRPUR' 'HANUMANGARH' 'HAPUR' 'HARDA'\n",
        " 'HARDOI' 'HARIDWAR' 'HASSAN' 'HATHRAS' 'HAVERI' 'HAZARIBAGH' 'HINGOLI'\n",
        " 'HISAR' 'HOOGHLY' 'HOSHANGABAD' 'HOSHIARPUR' 'HOWRAH' 'HYDERABAD'\n",
        " 'IDUKKI' 'IMPHAL EAST' 'IMPHAL WEST' 'INDORE' 'JABALPUR' 'JAGATSINGHAPUR'\n",
        " 'JAIPUR' 'JAISALMER' 'JAJAPUR' 'JALANDHAR' 'JALAUN' 'JALGAON' 'JALNA'\n",
        " 'JALORE' 'JALPAIGURI' 'JAMMU' 'JAMNAGAR' 'JAMTARA' 'JAMUI'\n",
        " 'JANJGIR-CHAMPA' 'JASHPUR' 'JAUNPUR' 'JEHANABAD' 'JHABUA' 'JHAJJAR'\n",
        " 'JHALAWAR' 'JHANSI' 'JHARSUGUDA' 'JHUNJHUNU' 'JIND' 'JODHPUR' 'JORHAT'\n",
        " 'JUNAGADH' 'KABIRDHAM' 'KACHCHH' 'KADAPA' 'KAIMUR (BHABUA)' 'KAITHAL'\n",
        " 'KALAHANDI' 'KAMRUP' 'KAMRUP METRO' 'KANCHIPURAM' 'KANDHAMAL' 'KANGRA'\n",
        " 'KANKER' 'KANNAUJ' 'KANNIYAKUMARI' 'KANNUR' 'KANPUR DEHAT' 'KANPUR NAGAR'\n",
        " 'KAPURTHALA' 'KARAIKAL' 'KARAULI' 'KARBI ANGLONG' 'KARGIL' 'KARIMGANJ'\n",
        " 'KARIMNAGAR' 'KARNAL' 'KARUR' 'KASARAGOD' 'KASGANJ' 'KATHUA' 'KATIHAR'\n",
        " 'KATNI' 'KAUSHAMBI' 'KENDRAPARA' 'KENDUJHAR' 'KHAGARIA' 'KHAMMAM'\n",
        " 'KHANDWA' 'KHARGONE' 'KHEDA' 'KHERI' 'KHORDHA' 'KHOWAI' 'KHUNTI'\n",
        " 'KINNAUR' 'KIPHIRE' 'KISHANGANJ' 'KISHTWAR' 'KODAGU' 'KODERMA' 'KOHIMA'\n",
        " 'KOKRAJHAR' 'KOLAR' 'KOLASIB' 'KOLHAPUR' 'KOLLAM' 'KONDAGAON' 'KOPPAL'\n",
        " 'KORAPUT' 'KORBA' 'KOREA' 'KOTA' 'KOTTAYAM' 'KOZHIKODE' 'KRISHNA'\n",
        " 'KRISHNAGIRI' 'KULGAM' 'KULLU' 'KUPWARA' 'KURNOOL' 'KURUKSHETRA'\n",
        " 'KURUNG KUMEY' 'KUSHI NAGAR' 'LAHUL AND SPITI' 'LAKHIMPUR' 'LAKHISARAI'\n",
        " 'LALITPUR' 'LATEHAR' 'LATUR' 'LAWNGTLAI' 'LEH LADAKH' 'LOHARDAGA' 'LOHIT'\n",
        " 'LONGDING' 'LONGLENG' 'LOWER DIBANG VALLEY' 'LOWER SUBANSIRI' 'LUCKNOW'\n",
        " 'LUDHIANA' 'LUNGLEI' 'MADHEPURA' 'MADHUBANI' 'MADURAI' 'MAHARAJGANJ'\n",
        " 'MAHASAMUND' 'MAHBUBNAGAR' 'MAHE' 'MAHENDRAGARH' 'MAHESANA' 'MAHOBA'\n",
        " 'MAINPURI' 'MALAPPURAM' 'MALDAH' 'MALKANGIRI' 'MAMIT' 'MANDI' 'MANDLA'\n",
        " 'MANDSAUR' 'MANDYA' 'MANSA' 'MARIGAON' 'MATHURA' 'MAU' 'MAYURBHANJ'\n",
        " 'MEDAK' 'MEDINIPUR EAST' 'MEDINIPUR WEST' 'MEERUT' 'MEWAT' 'MIRZAPUR'\n",
        " 'MOGA' 'MOKOKCHUNG' 'MON' 'MORADABAD' 'MORENA' 'MUKTSAR' 'MUMBAI'\n",
        " 'MUNGELI' 'MUNGER' 'MURSHIDABAD' 'MUZAFFARNAGAR' 'MUZAFFARPUR' 'MYSORE'\n",
        " 'NABARANGPUR' 'NADIA' 'NAGAON' 'NAGAPATTINAM' 'NAGAUR' 'NAGPUR'\n",
        " 'NAINITAL' 'NALANDA' 'NALBARI' 'NALGONDA' 'NAMAKKAL' 'NAMSAI' 'NANDED'\n",
        " 'NANDURBAR' 'NARAYANPUR' 'NARMADA' 'NARSINGHPUR' 'NASHIK' 'NAVSARI'\n",
        " 'NAWADA' 'NAWANSHAHR' 'NAYAGARH' 'NEEMUCH' 'NICOBARS' 'NIZAMABAD'\n",
        " 'NORTH AND MIDDLE ANDAMAN' 'NORTH DISTRICT' 'NORTH GARO HILLS'\n",
        " 'NORTH GOA' 'NORTH TRIPURA' 'NUAPADA' 'OSMANABAD' 'PAKUR' 'PALAKKAD'\n",
        " 'PALAMU' 'PALGHAR' 'PALI' 'PALWAL' 'PANCH MAHALS' 'PANCHKULA' 'PANIPAT'\n",
        " 'PANNA' 'PAPUM PARE' 'PARBHANI' 'PASHCHIM CHAMPARAN' 'PATAN'\n",
        " 'PATHANAMTHITTA' 'PATHANKOT' 'PATIALA' 'PATNA' 'PAURI GARHWAL'\n",
        " 'PERAMBALUR' 'PEREN' 'PHEK' 'PILIBHIT' 'PITHORAGARH' 'PONDICHERRY'\n",
        " 'POONCH' 'PORBANDAR' 'PRAKASAM' 'PRATAPGARH' 'PUDUKKOTTAI' 'PULWAMA'\n",
        " 'PUNE' 'PURBI CHAMPARAN' 'PURI' 'PURNIA' 'PURULIA' 'RAE BARELI' 'RAICHUR'\n",
        " 'RAIGAD' 'RAIGARH' 'RAIPUR' 'RAISEN' 'RAJAURI' 'RAJGARH' 'RAJKOT'\n",
        " 'RAJNANDGAON' 'RAJSAMAND' 'RAMANAGARA' 'RAMANATHAPURAM' 'RAMBAN'\n",
        " 'RAMGARH' 'RAMPUR' 'RANCHI' 'RANGAREDDI' 'RATLAM' 'RATNAGIRI' 'RAYAGADA'\n",
        " 'REASI' 'REWA' 'REWARI' 'RI BHOI' 'ROHTAK' 'ROHTAS' 'RUDRA PRAYAG'\n",
        " 'RUPNAGAR' 'S.A.S NAGAR' 'SABAR KANTHA' 'SAGAR' 'SAHARANPUR' 'SAHARSA'\n",
        " 'SAHEBGANJ' 'SAIHA' 'SALEM' 'SAMASTIPUR' 'SAMBA' 'SAMBALPUR' 'SAMBHAL'\n",
        " 'SANGLI' 'SANGRUR' 'SANT KABEER NAGAR' 'SANT RAVIDAS NAGAR'\n",
        " 'SARAIKELA KHARSAWAN' 'SARAN' 'SATARA' 'SATNA' 'SAWAI MADHOPUR' 'SEHORE'\n",
        " 'SENAPATI' 'SEONI' 'SEPAHIJALA' 'SERCHHIP' 'SHAHDOL' 'SHAHJAHANPUR'\n",
        " 'SHAJAPUR' 'SHAMLI' 'SHEIKHPURA' 'SHEOHAR' 'SHEOPUR' 'SHIMLA' 'SHIMOGA'\n",
        " 'SHIVPURI' 'SHOPIAN' 'SHRAVASTI' 'SIDDHARTH NAGAR' 'SIDHI' 'SIKAR'\n",
        " 'SIMDEGA' 'SINDHUDURG' 'SINGRAULI' 'SIRMAUR' 'SIROHI' 'SIRSA' 'SITAMARHI'\n",
        " 'SITAPUR' 'SIVAGANGA' 'SIVASAGAR' 'SIWAN' 'SOLAN' 'SOLAPUR' 'SONBHADRA'\n",
        " 'SONEPUR' 'SONIPAT' 'SONITPUR' 'SOUTH ANDAMANS' 'SOUTH DISTRICT'\n",
        " 'SOUTH GARO HILLS' 'SOUTH GOA' 'SOUTH TRIPURA' 'SOUTH WEST GARO HILLS'\n",
        " 'SOUTH WEST KHASI HILLS' 'SPSR NELLORE' 'SRIKAKULAM' 'SRINAGAR' 'SUKMA'\n",
        " 'SULTANPUR' 'SUNDARGARH' 'SUPAUL' 'SURAJPUR' 'SURAT' 'SURENDRANAGAR'\n",
        " 'SURGUJA' 'TAMENGLONG' 'TAPI' 'TARN TARAN' 'TAWANG' 'TEHRI GARHWAL'\n",
        " 'THANE' 'THANJAVUR' 'THE NILGIRIS' 'THENI' 'THIRUVALLUR'\n",
        " 'THIRUVANANTHAPURAM' 'THIRUVARUR' 'THOUBAL' 'THRISSUR' 'TIKAMGARH'\n",
        " 'TINSUKIA' 'TIRAP' 'TIRUCHIRAPPALLI' 'TIRUNELVELI' 'TIRUPPUR'\n",
        " 'TIRUVANNAMALAI' 'TONK' 'TUENSANG' 'TUMKUR' 'TUTICORIN' 'UDAIPUR'\n",
        " 'UDALGURI' 'UDAM SINGH NAGAR' 'UDHAMPUR' 'UDUPI' 'UJJAIN' 'UKHRUL'\n",
        " 'UMARIA' 'UNA' 'UNAKOTI' 'UNNAO' 'UPPER SIANG' 'UPPER SUBANSIRI'\n",
        " 'UTTAR KANNAD' 'UTTAR KASHI' 'VADODARA' 'VAISHALI' 'VALSAD' 'VARANASI'\n",
        " 'VELLORE' 'VIDISHA' 'VILLUPURAM' 'VIRUDHUNAGAR' 'VISAKHAPATANAM'\n",
        " 'VIZIANAGARAM' 'WARANGAL' 'WARDHA' 'WASHIM' 'WAYANAD' 'WEST DISTRICT'\n",
        " 'WEST GARO HILLS' 'WEST GODAVARI' 'WEST JAINTIA HILLS' 'WEST KAMENG'\n",
        " 'WEST KHASI HILLS' 'WEST SIANG' 'WEST SINGHBHUM' 'WEST TRIPURA' 'WOKHA'\n",
        " 'YADGIR' 'YAMUNANAGAR' 'YANAM' 'YAVATMAL' 'ZUNHEBOTO']\n",
        "  crops=['Apple' 'Arcanut (Processed)' 'Arecanut' 'Arhar/Tur' 'Ash Gourd'\n",
        " 'Atcanut (Raw)' 'Bajra' 'Banana' 'Barley' 'Bean'\n",
        " 'Beans & Mutter(Vegetable)' 'Beet Root' 'Ber' 'Bhindi' 'Bitter Gourd'\n",
        " 'Black pepper' 'Blackgram' 'Bottle Gourd' 'Brinjal' 'Cabbage' 'Cardamom'\n",
        " 'Carrot' 'Cashewnut' 'Cashewnut Processed' 'Cashewnut Raw' 'Castor seed'\n",
        " 'Cauliflower' 'Citrus Fruit' 'Coconut ' 'Coffee' 'Colocosia'\n",
        " 'Cond-spcs other' 'Coriander' 'Cotton(lint)' 'Cowpea(Lobia)' 'Cucumber'\n",
        " 'Drum Stick' 'Dry chillies' 'Dry ginger' 'Garlic' 'Ginger' 'Gram'\n",
        " 'Grapes' 'Groundnut' 'Guar seed' 'Horse-gram' 'Jack Fruit' 'Jobster'\n",
        " 'Jowar' 'Jute' 'Jute & mesta' 'Kapas' 'Khesari' 'Korra' 'Lab-Lab' 'Lemon'\n",
        " 'Lentil' 'Linseed' 'Litchi' 'Maize' 'Mango' 'Masoor' 'Mesta'\n",
        " 'Moong(Green Gram)' 'Moth' 'Niger seed' 'Oilseeds total' 'Onion' 'Orange'\n",
        " 'Other  Rabi pulses' 'Other Cereals & Millets' 'Other Citrus Fruit'\n",
        " 'Other Dry Fruit' 'Other Fresh Fruits' 'Other Kharif pulses'\n",
        " 'Other Vegetables' 'Paddy' 'Papaya' 'Peach' 'Pear' 'Peas  (vegetable)'\n",
        " 'Peas & beans (Pulses)' 'Perilla' 'Pineapple' 'Plums' 'Pome Fruit'\n",
        " 'Pome Granet' 'Potato' 'Pulses total' 'Pump Kin' 'Ragi' 'Rajmash Kholar'\n",
        " 'Rapeseed &Mustard' 'Redish' 'Ribed Guard' 'Rice' 'Ricebean (nagadal)'\n",
        " 'Rubber' 'Safflower' 'Samai' 'Sannhamp' 'Sapota' 'Sesamum'\n",
        " 'Small millets' 'Snak Guard' 'Soyabean' 'Sugarcane' 'Sunflower'\n",
        " 'Sweet potato' 'Tapioca' 'Tea' 'Tobacco' 'Tomato' 'Total foodgrain'\n",
        " 'Turmeric' 'Turnip' 'Urad' 'Varagu' 'Water Melon' 'Wheat' 'Yam'\n",
        " 'other fibres' 'other misc. pulses' 'other oilseeds']\n",
        "  \n"
      ],
      "execution_count": 0,
      "outputs": []
    }
  ]
}