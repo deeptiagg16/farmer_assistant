{
  "nbformat": 4,
  "nbformat_minor": 0,
  "metadata": {
    "colab": {
      "name": "FARMASSIST.ipynb",
      "provenance": [],
      "collapsed_sections": [],
      "include_colab_link": true
    },
    "kernelspec": {
      "name": "python3",
      "display_name": "Python 3"
    }
  },
  "cells": [
    {
      "cell_type": "markdown",
      "metadata": {
        "id": "view-in-github",
        "colab_type": "text"
      },
      "source": [
        "<a href=\"https://colab.research.google.com/github/priyagarg1304/farmer_assistant/blob/master/FARMASSIST.ipynb\" target=\"_parent\"><img src=\"https://colab.research.google.com/assets/colab-badge.svg\" alt=\"Open In Colab\"/></a>"
      ]
    },
    {
      "cell_type": "code",
      "metadata": {
        "id": "34syeg4yxLNs",
        "colab_type": "code",
        "outputId": "e72d6616-0a65-49f0-f1b8-f02ca16c4564",
        "colab": {
          "base_uri": "https://localhost:8080/",
          "height": 1000
        }
      },
      "source": [
        "pip install chatterbot"
      ],
      "execution_count": 0,
      "outputs": [
        {
          "output_type": "stream",
          "text": [
            "Collecting chatterbot\n",
            "\u001b[?25l  Downloading https://files.pythonhosted.org/packages/6c/0e/dac0d82f34f86bf509cf5ef3e2dfc5aa7d444bd843a2330ceb7d854f84f2/ChatterBot-1.0.5-py2.py3-none-any.whl (67kB)\n",
            "\r\u001b[K     |████▉                           | 10kB 13.2MB/s eta 0:00:01\r\u001b[K     |█████████▋                      | 20kB 3.2MB/s eta 0:00:01\r\u001b[K     |██████████████▌                 | 30kB 4.6MB/s eta 0:00:01\r\u001b[K     |███████████████████▎            | 40kB 2.9MB/s eta 0:00:01\r\u001b[K     |████████████████████████▏       | 51kB 3.6MB/s eta 0:00:01\r\u001b[K     |█████████████████████████████   | 61kB 4.2MB/s eta 0:00:01\r\u001b[K     |████████████████████████████████| 71kB 3.9MB/s \n",
            "\u001b[?25hCollecting pint>=0.8.1 (from chatterbot)\n",
            "\u001b[?25l  Downloading https://files.pythonhosted.org/packages/15/9d/bf177ebbc57d25e9e296addc14a1303d1e34d7964af5df428a8332349c42/Pint-0.9-py2.py3-none-any.whl (138kB)\n",
            "\r\u001b[K     |██▍                             | 10kB 16.3MB/s eta 0:00:01\r\u001b[K     |████▊                           | 20kB 23.1MB/s eta 0:00:01\r\u001b[K     |███████▏                        | 30kB 29.3MB/s eta 0:00:01\r\u001b[K     |█████████▌                      | 40kB 32.3MB/s eta 0:00:01\r\u001b[K     |███████████▉                    | 51kB 34.8MB/s eta 0:00:01\r\u001b[K     |██████████████▎                 | 61kB 38.0MB/s eta 0:00:01\r\u001b[K     |████████████████▋               | 71kB 11.2MB/s eta 0:00:01\r\u001b[K     |███████████████████             | 81kB 12.0MB/s eta 0:00:01\r\u001b[K     |█████████████████████▍          | 92kB 13.2MB/s eta 0:00:01\r\u001b[K     |███████████████████████▊        | 102kB 14.2MB/s eta 0:00:01\r\u001b[K     |██████████████████████████      | 112kB 14.2MB/s eta 0:00:01\r\u001b[K     |████████████████████████████▌   | 122kB 14.2MB/s eta 0:00:01\r\u001b[K     |██████████████████████████████▉ | 133kB 14.2MB/s eta 0:00:01\r\u001b[K     |████████████████████████████████| 143kB 14.2MB/s \n",
            "\u001b[?25hRequirement already satisfied: nltk<4.0,>=3.2 in /usr/local/lib/python3.6/dist-packages (from chatterbot) (3.2.5)\n",
            "Requirement already satisfied: pymongo<4.0,>=3.3 in /usr/local/lib/python3.6/dist-packages (from chatterbot) (3.9.0)\n",
            "Requirement already satisfied: spacy<2.2,>=2.1 in /usr/local/lib/python3.6/dist-packages (from chatterbot) (2.1.8)\n",
            "Collecting python-dateutil<2.8,>=2.7 (from chatterbot)\n",
            "\u001b[?25l  Downloading https://files.pythonhosted.org/packages/74/68/d87d9b36af36f44254a8d512cbfc48369103a3b9e474be9bdfe536abfc45/python_dateutil-2.7.5-py2.py3-none-any.whl (225kB)\n",
            "\r\u001b[K     |█▌                              | 10kB 16.4MB/s eta 0:00:01\r\u001b[K     |███                             | 20kB 22.1MB/s eta 0:00:01\r\u001b[K     |████▍                           | 30kB 27.7MB/s eta 0:00:01\r\u001b[K     |█████▉                          | 40kB 31.5MB/s eta 0:00:01\r\u001b[K     |███████▎                        | 51kB 34.1MB/s eta 0:00:01\r\u001b[K     |████████▊                       | 61kB 37.4MB/s eta 0:00:01\r\u001b[K     |██████████▏                     | 71kB 39.1MB/s eta 0:00:01\r\u001b[K     |███████████▋                    | 81kB 39.9MB/s eta 0:00:01\r\u001b[K     |█████████████                   | 92kB 41.8MB/s eta 0:00:01\r\u001b[K     |██████████████▌                 | 102kB 43.2MB/s eta 0:00:01\r\u001b[K     |████████████████                | 112kB 43.2MB/s eta 0:00:01\r\u001b[K     |█████████████████▍              | 122kB 43.2MB/s eta 0:00:01\r\u001b[K     |██████████████████▉             | 133kB 43.2MB/s eta 0:00:01\r\u001b[K     |████████████████████▎           | 143kB 43.2MB/s eta 0:00:01\r\u001b[K     |█████████████████████▉          | 153kB 43.2MB/s eta 0:00:01\r\u001b[K     |███████████████████████▎        | 163kB 43.2MB/s eta 0:00:01\r\u001b[K     |████████████████████████▊       | 174kB 43.2MB/s eta 0:00:01\r\u001b[K     |██████████████████████████▏     | 184kB 43.2MB/s eta 0:00:01\r\u001b[K     |███████████████████████████▋    | 194kB 43.2MB/s eta 0:00:01\r\u001b[K     |█████████████████████████████   | 204kB 43.2MB/s eta 0:00:01\r\u001b[K     |██████████████████████████████▌ | 215kB 43.2MB/s eta 0:00:01\r\u001b[K     |████████████████████████████████| 225kB 43.2MB/s eta 0:00:01\r\u001b[K     |████████████████████████████████| 235kB 43.2MB/s \n",
            "\u001b[?25hCollecting pyyaml<5.2,>=5.1 (from chatterbot)\n",
            "\u001b[?25l  Downloading https://files.pythonhosted.org/packages/e3/e8/b3212641ee2718d556df0f23f78de8303f068fe29cdaa7a91018849582fe/PyYAML-5.1.2.tar.gz (265kB)\n",
            "\r\u001b[K     |█▎                              | 10kB 17.5MB/s eta 0:00:01\r\u001b[K     |██▌                             | 20kB 25.1MB/s eta 0:00:01\r\u001b[K     |███▊                            | 30kB 30.6MB/s eta 0:00:01\r\u001b[K     |█████                           | 40kB 34.3MB/s eta 0:00:01\r\u001b[K     |██████▏                         | 51kB 37.1MB/s eta 0:00:01\r\u001b[K     |███████▍                        | 61kB 40.5MB/s eta 0:00:01\r\u001b[K     |████████▋                       | 71kB 42.1MB/s eta 0:00:01\r\u001b[K     |██████████                      | 81kB 43.4MB/s eta 0:00:01\r\u001b[K     |███████████▏                    | 92kB 45.0MB/s eta 0:00:01\r\u001b[K     |████████████▍                   | 102kB 46.5MB/s eta 0:00:01\r\u001b[K     |█████████████▋                  | 112kB 46.5MB/s eta 0:00:01\r\u001b[K     |██████████████▉                 | 122kB 46.5MB/s eta 0:00:01\r\u001b[K     |████████████████                | 133kB 46.5MB/s eta 0:00:01\r\u001b[K     |█████████████████▎              | 143kB 46.5MB/s eta 0:00:01\r\u001b[K     |██████████████████▌             | 153kB 46.5MB/s eta 0:00:01\r\u001b[K     |███████████████████▉            | 163kB 46.5MB/s eta 0:00:01\r\u001b[K     |█████████████████████           | 174kB 46.5MB/s eta 0:00:01\r\u001b[K     |██████████████████████▎         | 184kB 46.5MB/s eta 0:00:01\r\u001b[K     |███████████████████████▌        | 194kB 46.5MB/s eta 0:00:01\r\u001b[K     |████████████████████████▊       | 204kB 46.5MB/s eta 0:00:01\r\u001b[K     |██████████████████████████      | 215kB 46.5MB/s eta 0:00:01\r\u001b[K     |███████████████████████████▏    | 225kB 46.5MB/s eta 0:00:01\r\u001b[K     |████████████████████████████▍   | 235kB 46.5MB/s eta 0:00:01\r\u001b[K     |█████████████████████████████▊  | 245kB 46.5MB/s eta 0:00:01\r\u001b[K     |███████████████████████████████ | 256kB 46.5MB/s eta 0:00:01\r\u001b[K     |████████████████████████████████| 266kB 46.5MB/s \n",
            "\u001b[?25hCollecting mathparse<0.2,>=0.1 (from chatterbot)\n",
            "  Downloading https://files.pythonhosted.org/packages/c3/e5/4910fb85950cb960fcf3f5aabe1c8e55f5c9201788a1c1302b570a7e1f84/mathparse-0.1.2-py3-none-any.whl\n",
            "Collecting sqlalchemy<1.3,>=1.2 (from chatterbot)\n",
            "\u001b[?25l  Downloading https://files.pythonhosted.org/packages/f9/67/d07cf7ac7e6dd0bc55ba62816753f86d7c558107104ca915e730c9ec2512/SQLAlchemy-1.2.19.tar.gz (5.7MB)\n",
            "\u001b[K     |████████████████████████████████| 5.7MB 39.7MB/s \n",
            "\u001b[?25hRequirement already satisfied: pytz in /usr/local/lib/python3.6/dist-packages (from chatterbot) (2018.9)\n",
            "Requirement already satisfied: six in /usr/local/lib/python3.6/dist-packages (from nltk<4.0,>=3.2->chatterbot) (1.12.0)\n",
            "Requirement already satisfied: preshed<2.1.0,>=2.0.1 in /usr/local/lib/python3.6/dist-packages (from spacy<2.2,>=2.1->chatterbot) (2.0.1)\n",
            "Requirement already satisfied: numpy>=1.15.0 in /usr/local/lib/python3.6/dist-packages (from spacy<2.2,>=2.1->chatterbot) (1.16.5)\n",
            "Requirement already satisfied: thinc<7.1.0,>=7.0.8 in /usr/local/lib/python3.6/dist-packages (from spacy<2.2,>=2.1->chatterbot) (7.0.8)\n",
            "Requirement already satisfied: plac<1.0.0,>=0.9.6 in /usr/local/lib/python3.6/dist-packages (from spacy<2.2,>=2.1->chatterbot) (0.9.6)\n",
            "Requirement already satisfied: cymem<2.1.0,>=2.0.2 in /usr/local/lib/python3.6/dist-packages (from spacy<2.2,>=2.1->chatterbot) (2.0.2)\n",
            "Requirement already satisfied: murmurhash<1.1.0,>=0.28.0 in /usr/local/lib/python3.6/dist-packages (from spacy<2.2,>=2.1->chatterbot) (1.0.2)\n",
            "Requirement already satisfied: requests<3.0.0,>=2.13.0 in /usr/local/lib/python3.6/dist-packages (from spacy<2.2,>=2.1->chatterbot) (2.21.0)\n",
            "Requirement already satisfied: wasabi<1.1.0,>=0.2.0 in /usr/local/lib/python3.6/dist-packages (from spacy<2.2,>=2.1->chatterbot) (0.2.2)\n",
            "Requirement already satisfied: blis<0.3.0,>=0.2.2 in /usr/local/lib/python3.6/dist-packages (from spacy<2.2,>=2.1->chatterbot) (0.2.4)\n",
            "Requirement already satisfied: srsly<1.1.0,>=0.0.6 in /usr/local/lib/python3.6/dist-packages (from spacy<2.2,>=2.1->chatterbot) (0.1.0)\n",
            "Requirement already satisfied: tqdm<5.0.0,>=4.10.0 in /usr/local/lib/python3.6/dist-packages (from thinc<7.1.0,>=7.0.8->spacy<2.2,>=2.1->chatterbot) (4.28.1)\n",
            "Requirement already satisfied: idna<2.9,>=2.5 in /usr/local/lib/python3.6/dist-packages (from requests<3.0.0,>=2.13.0->spacy<2.2,>=2.1->chatterbot) (2.8)\n",
            "Requirement already satisfied: certifi>=2017.4.17 in /usr/local/lib/python3.6/dist-packages (from requests<3.0.0,>=2.13.0->spacy<2.2,>=2.1->chatterbot) (2019.9.11)\n",
            "Requirement already satisfied: urllib3<1.25,>=1.21.1 in /usr/local/lib/python3.6/dist-packages (from requests<3.0.0,>=2.13.0->spacy<2.2,>=2.1->chatterbot) (1.24.3)\n",
            "Requirement already satisfied: chardet<3.1.0,>=3.0.2 in /usr/local/lib/python3.6/dist-packages (from requests<3.0.0,>=2.13.0->spacy<2.2,>=2.1->chatterbot) (3.0.4)\n",
            "Building wheels for collected packages: pyyaml, sqlalchemy\n",
            "  Building wheel for pyyaml (setup.py) ... \u001b[?25l\u001b[?25hdone\n",
            "  Created wheel for pyyaml: filename=PyYAML-5.1.2-cp36-cp36m-linux_x86_64.whl size=44104 sha256=fc7e62cc2223289b4fe06137d7098fe26329757821a290248d558a8e2699719e\n",
            "  Stored in directory: /root/.cache/pip/wheels/d9/45/dd/65f0b38450c47cf7e5312883deb97d065e030c5cca0a365030\n",
            "  Building wheel for sqlalchemy (setup.py) ... \u001b[?25l\u001b[?25hdone\n",
            "  Created wheel for sqlalchemy: filename=SQLAlchemy-1.2.19-cp36-cp36m-linux_x86_64.whl size=1151188 sha256=8aca669eb5968d4095371c1cff586d63dd5a825ee31c729c11b90037ba59af9f\n",
            "  Stored in directory: /root/.cache/pip/wheels/2c/90/a7/3b40c6cc468abff357b38fd075429920bd0d313659d889cf8a\n",
            "Successfully built pyyaml sqlalchemy\n",
            "\u001b[31mERROR: albumentations 0.1.12 has requirement imgaug<0.2.7,>=0.2.5, but you'll have imgaug 0.2.9 which is incompatible.\u001b[0m\n",
            "Installing collected packages: pint, python-dateutil, pyyaml, mathparse, sqlalchemy, chatterbot\n",
            "  Found existing installation: python-dateutil 2.5.3\n",
            "    Uninstalling python-dateutil-2.5.3:\n",
            "      Successfully uninstalled python-dateutil-2.5.3\n",
            "  Found existing installation: PyYAML 3.13\n",
            "    Uninstalling PyYAML-3.13:\n",
            "      Successfully uninstalled PyYAML-3.13\n",
            "  Found existing installation: SQLAlchemy 1.3.9\n",
            "    Uninstalling SQLAlchemy-1.3.9:\n",
            "      Successfully uninstalled SQLAlchemy-1.3.9\n",
            "Successfully installed chatterbot-1.0.5 mathparse-0.1.2 pint-0.9 python-dateutil-2.7.5 pyyaml-5.1.2 sqlalchemy-1.2.19\n"
          ],
          "name": "stdout"
        },
        {
          "output_type": "display_data",
          "data": {
            "application/vnd.colab-display-data+json": {
              "pip_warning": {
                "packages": [
                  "dateutil"
                ]
              }
            }
          },
          "metadata": {
            "tags": []
          }
        }
      ]
    },
    {
      "cell_type": "code",
      "metadata": {
        "id": "CY3Lcn68yO5C",
        "colab_type": "code",
        "outputId": "a30f5a6a-1b80-4c74-ec41-5d0d42d0ed8c",
        "colab": {
          "base_uri": "https://localhost:8080/",
          "height": 326
        }
      },
      "source": [
        "pip install chatterbot-corpus"
      ],
      "execution_count": 0,
      "outputs": [
        {
          "output_type": "stream",
          "text": [
            "Collecting chatterbot-corpus\n",
            "\u001b[?25l  Downloading https://files.pythonhosted.org/packages/ed/19/f8b41daf36fe4b0f43e283a820362ffdb2c1128600ab4ee187e84262fa4d/chatterbot_corpus-1.2.0-py2.py3-none-any.whl (117kB)\n",
            "\r\u001b[K     |██▉                             | 10kB 14.6MB/s eta 0:00:01\r\u001b[K     |█████▋                          | 20kB 3.2MB/s eta 0:00:01\r\u001b[K     |████████▍                       | 30kB 4.5MB/s eta 0:00:01\r\u001b[K     |███████████▏                    | 40kB 3.0MB/s eta 0:00:01\r\u001b[K     |██████████████                  | 51kB 3.7MB/s eta 0:00:01\r\u001b[K     |████████████████▊               | 61kB 4.4MB/s eta 0:00:01\r\u001b[K     |███████████████████▋            | 71kB 5.0MB/s eta 0:00:01\r\u001b[K     |██████████████████████▍         | 81kB 5.6MB/s eta 0:00:01\r\u001b[K     |█████████████████████████▏      | 92kB 6.3MB/s eta 0:00:01\r\u001b[K     |████████████████████████████    | 102kB 5.0MB/s eta 0:00:01\r\u001b[K     |██████████████████████████████▊ | 112kB 5.0MB/s eta 0:00:01\r\u001b[K     |████████████████████████████████| 122kB 5.0MB/s \n",
            "\u001b[?25hCollecting PyYAML<4.0,>=3.12 (from chatterbot-corpus)\n",
            "\u001b[?25l  Downloading https://files.pythonhosted.org/packages/9e/a3/1d13970c3f36777c583f136c136f804d70f500168edc1edea6daa7200769/PyYAML-3.13.tar.gz (270kB)\n",
            "\r\u001b[K     |█▏                              | 10kB 15.5MB/s eta 0:00:01\r\u001b[K     |██▍                             | 20kB 22.4MB/s eta 0:00:01\r\u001b[K     |███▋                            | 30kB 27.7MB/s eta 0:00:01\r\u001b[K     |████▉                           | 40kB 31.2MB/s eta 0:00:01\r\u001b[K     |██████                          | 51kB 33.5MB/s eta 0:00:01\r\u001b[K     |███████▎                        | 61kB 36.8MB/s eta 0:00:01\r\u001b[K     |████████▌                       | 71kB 38.4MB/s eta 0:00:01\r\u001b[K     |█████████▊                      | 81kB 39.7MB/s eta 0:00:01\r\u001b[K     |███████████                     | 92kB 41.4MB/s eta 0:00:01\r\u001b[K     |████████████                    | 102kB 16.1MB/s eta 0:00:01\r\u001b[K     |█████████████▎                  | 112kB 16.1MB/s eta 0:00:01\r\u001b[K     |██████████████▌                 | 122kB 16.1MB/s eta 0:00:01\r\u001b[K     |███████████████▊                | 133kB 16.1MB/s eta 0:00:01\r\u001b[K     |█████████████████               | 143kB 16.1MB/s eta 0:00:01\r\u001b[K     |██████████████████▏             | 153kB 16.1MB/s eta 0:00:01\r\u001b[K     |███████████████████▍            | 163kB 16.1MB/s eta 0:00:01\r\u001b[K     |████████████████████▋           | 174kB 16.1MB/s eta 0:00:01\r\u001b[K     |█████████████████████▉          | 184kB 16.1MB/s eta 0:00:01\r\u001b[K     |███████████████████████         | 194kB 16.1MB/s eta 0:00:01\r\u001b[K     |████████████████████████▏       | 204kB 16.1MB/s eta 0:00:01\r\u001b[K     |█████████████████████████▍      | 215kB 16.1MB/s eta 0:00:01\r\u001b[K     |██████████████████████████▋     | 225kB 16.1MB/s eta 0:00:01\r\u001b[K     |███████████████████████████▉    | 235kB 16.1MB/s eta 0:00:01\r\u001b[K     |█████████████████████████████   | 245kB 16.1MB/s eta 0:00:01\r\u001b[K     |██████████████████████████████▎ | 256kB 16.1MB/s eta 0:00:01\r\u001b[K     |███████████████████████████████▌| 266kB 16.1MB/s eta 0:00:01\r\u001b[K     |████████████████████████████████| 276kB 16.1MB/s \n",
            "\u001b[?25hBuilding wheels for collected packages: PyYAML\n",
            "  Building wheel for PyYAML (setup.py) ... \u001b[?25l\u001b[?25hdone\n",
            "  Created wheel for PyYAML: filename=PyYAML-3.13-cp36-cp36m-linux_x86_64.whl size=43087 sha256=e72cb89af49d67da0354004deb6c1d8d3955be2e7e7a162d6a1adb69c13c0a06\n",
            "  Stored in directory: /root/.cache/pip/wheels/ad/da/0c/74eb680767247273e2cf2723482cb9c924fe70af57c334513f\n",
            "Successfully built PyYAML\n",
            "\u001b[31mERROR: chatterbot 1.0.5 has requirement pyyaml<5.2,>=5.1, but you'll have pyyaml 3.13 which is incompatible.\u001b[0m\n",
            "Installing collected packages: PyYAML, chatterbot-corpus\n",
            "  Found existing installation: PyYAML 5.1.2\n",
            "    Uninstalling PyYAML-5.1.2:\n",
            "      Successfully uninstalled PyYAML-5.1.2\n",
            "Successfully installed PyYAML-3.13 chatterbot-corpus-1.2.0\n"
          ],
          "name": "stdout"
        }
      ]
    },
    {
      "cell_type": "code",
      "metadata": {
        "id": "Run0Pj64xVa8",
        "colab_type": "code",
        "outputId": "cebca128-98ec-470f-9f25-d8d2d8446c44",
        "colab": {
          "base_uri": "https://localhost:8080/",
          "height": 136
        }
      },
      "source": [
        "from chatterbot.trainers import ListTrainer\n",
        "from chatterbot import ChatBot\n",
        "\n",
        "#creating a new chatbot\n",
        "chatbot = ChatBot('caht')\n",
        "trainer = ListTrainer(chatbot)\n",
        "#some training data that will initiate the talk\n",
        "trainer.train([ 'What are you','I am a computer', 'What are you doing','Replying you   :D', 'How are you','I am always good'])\n",
        " \n"
      ],
      "execution_count": 0,
      "outputs": [
        {
          "output_type": "stream",
          "text": [
            "[nltk_data] Downloading package averaged_perceptron_tagger to\n",
            "[nltk_data]     /root/nltk_data...\n",
            "[nltk_data]   Package averaged_perceptron_tagger is already up-to-\n",
            "[nltk_data]       date!\n",
            "[nltk_data] Downloading package stopwords to /root/nltk_data...\n",
            "[nltk_data]   Package stopwords is already up-to-date!\n",
            "List Trainer: [####################] 100%\n"
          ],
          "name": "stdout"
        }
      ]
    },
    {
      "cell_type": "code",
      "metadata": {
        "id": "ex8avfpEHj1e",
        "colab_type": "code",
        "outputId": "474c17b0-3ce8-49fd-b12a-d0bc7741100c",
        "colab": {
          "resources": {
            "http://localhost:8080/nbextensions/google.colab/files.js": {
              "data": "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",
              "ok": true,
              "headers": [
                [
                  "content-type",
                  "application/javascript"
                ]
              ],
              "status": 200,
              "status_text": ""
            }
          },
          "base_uri": "https://localhost:8080/",
          "height": 74
        }
      },
      "source": [
        "from google.colab import files\n",
        "uploaded = files.upload()"
      ],
      "execution_count": 0,
      "outputs": [
        {
          "output_type": "display_data",
          "data": {
            "text/html": [
              "\n",
              "     <input type=\"file\" id=\"files-9a16e5bc-7d4c-4060-b988-e144dea0e6f0\" name=\"files[]\" multiple disabled />\n",
              "     <output id=\"result-9a16e5bc-7d4c-4060-b988-e144dea0e6f0\">\n",
              "      Upload widget is only available when the cell has been executed in the\n",
              "      current browser session. Please rerun this cell to enable.\n",
              "      </output>\n",
              "      <script src=\"/nbextensions/google.colab/files.js\"></script> "
            ],
            "text/plain": [
              "<IPython.core.display.HTML object>"
            ]
          },
          "metadata": {
            "tags": []
          }
        },
        {
          "output_type": "stream",
          "text": [
            "Saving crop_production.csv to crop_production.csv\n"
          ],
          "name": "stdout"
        }
      ]
    },
    {
      "cell_type": "code",
      "metadata": {
        "id": "6W7XxaMQJESG",
        "colab_type": "code",
        "outputId": "1d8de7c5-4b67-4360-812e-077b53f4d109",
        "colab": {
          "base_uri": "https://localhost:8080/",
          "height": 1000
        }
      },
      "source": [
        "import pandas\n",
        "import numpy as np\n",
        "data = pandas.read_csv('crop_production.csv')\n",
        "data = data.drop('Crop_Year',1)\n",
        "from sklearn.preprocessing import LabelEncoder \n",
        "crops=np.unique(data['Crop'])\n",
        "states=np.unique(data['State_Name'])\n",
        "districts=np.unique(data['District_Name'])\n",
        "\n",
        "#encoding the strings to labels like 0,1,2...\n",
        "le = LabelEncoder() \n",
        "  \n",
        "data['Crop']= le.fit_transform(data['Crop']) \n",
        "data['State_Name']= le.fit_transform(data['State_Name'])\n",
        "data['District_Name']= le.fit_transform(data['District_Name'])\n",
        "data['Season']= le.fit_transform(data['Season']) \n",
        "print(data)"
      ],
      "execution_count": 0,
      "outputs": [
        {
          "output_type": "stream",
          "text": [
            "        State_Name  District_Name  Season  Crop      Area   Production\n",
            "0                0            427       1     2    1254.0      2000.00\n",
            "1                0            427       1    74       2.0         1.00\n",
            "2                0            427       1    95     102.0       321.00\n",
            "3                0            427       4     7     176.0       641.00\n",
            "4                0            427       4    22     720.0       165.00\n",
            "5                0            427       4    28   18168.0  65100000.00\n",
            "6                0            427       4    38      36.0       100.00\n",
            "7                0            427       4   106       1.0         2.00\n",
            "8                0            427       4   108       5.0        15.00\n",
            "9                0            427       4   109      40.0       169.00\n",
            "10               0            427       1     2    1254.0      2061.00\n",
            "11               0            427       1    74       2.0         1.00\n",
            "12               0            427       1    95      83.0       300.00\n",
            "13               0            427       4    22     719.0       192.00\n",
            "14               0            427       4    28   18190.0  64430000.00\n",
            "15               0            427       4    38      46.0       100.00\n",
            "16               0            427       4   106       1.0         1.00\n",
            "17               0            427       4   108      11.0        33.00\n",
            "18               0            427       1    95     189.2       510.84\n",
            "19               0            427       4     2    1258.0      2083.00\n",
            "20               0            427       4     7     213.0      1278.00\n",
            "21               0            427       4    15      63.0        13.50\n",
            "22               0            427       4    22     719.0       208.00\n",
            "23               0            427       4    28   18240.0  67490000.00\n",
            "24               0            427       4    37     413.0        28.80\n",
            "25               0            427       4    38      47.3       133.00\n",
            "26               0            427       4   106       5.0        40.00\n",
            "27               0            427       1    95      52.0        90.17\n",
            "28               0            427       4     2    1261.0      1525.00\n",
            "29               0            427       4     7     266.0      1763.00\n",
            "...            ...            ...     ...   ...       ...          ...\n",
            "246061          32            471       1     6      49.0        19.00\n",
            "246062          32            471       1    62     159.0      2065.00\n",
            "246063          32            471       1    63     181.0       100.00\n",
            "246064          32            471       1    64      16.0        14.00\n",
            "246065          32            471       1    65     204.0        74.00\n",
            "246066          32            471       1    74      79.0        39.00\n",
            "246067          32            471       1   100     171.0       727.00\n",
            "246068          32            471       1   105      18.0         7.00\n",
            "246069          32            471       1   107      46.0        42.00\n",
            "246070          32            471       1   116   11493.0      3287.00\n",
            "246071          32            471       2     3     671.0       723.00\n",
            "246072          32            471       2    41     198.0       203.00\n",
            "246073          32            471       2    43      30.0        25.00\n",
            "246074          32            471       2    45     660.0       332.00\n",
            "246075          32            471       2    52     146.0       126.00\n",
            "246076          32            471       2    57     160.0        51.00\n",
            "246077          32            471       2    61      31.0        19.00\n",
            "246078          32            471       2    63      64.0        40.00\n",
            "246079          32            471       2    81      12.0        12.00\n",
            "246080          32            471       2    87     477.0      9995.00\n",
            "246081          32            471       2    92    1885.0      1508.00\n",
            "246082          32            471       2    98      54.0        37.00\n",
            "246083          32            471       2   116     220.0       113.00\n",
            "246084          32            471       2   119    1622.0      3663.00\n",
            "246085          32            471       3    59     325.0      2039.00\n",
            "246086          32            471       3    95     306.0       801.00\n",
            "246087          32            471       3   102     627.0       463.00\n",
            "246088          32            471       4   106     324.0     16250.00\n",
            "246089          32            471       5    95  279151.0    597899.00\n",
            "246090          32            471       5   102     175.0        88.00\n",
            "\n",
            "[246091 rows x 6 columns]\n"
          ],
          "name": "stdout"
        }
      ]
    },
    {
      "cell_type": "code",
      "metadata": {
        "id": "iyWeV_BPJEV4",
        "colab_type": "code",
        "outputId": "829fe80a-cf83-4068-cd28-83a774669b0e",
        "colab": {
          "base_uri": "https://localhost:8080/",
          "height": 34
        }
      },
      "source": [
        "\n",
        "import numpy as np\n",
        "dat=np.array(data)\n",
        "X=dat[:,0:4]\n",
        "X=np.array(X)\n",
        "\n",
        "Y=dat[:,5]\n",
        "Y=np.array(Y)\n",
        "\n",
        "#saving the changed output\n",
        "Y1=np.array(Y)\n",
        "\n",
        "from sklearn import preprocessing\n",
        "\n",
        "for i in range(Y.size):\n",
        "  if Y[i]>200000:\n",
        "    Y1[i]=4\n",
        "  elif Y[i]>100000 and Y[i]<200000:\n",
        "    Y1[i]=3\n",
        "  elif Y[i]>10000:\n",
        "    Y1[i]=2\n",
        "  else:\n",
        "    Y1[i]=1\n",
        "  \n",
        "print(Y1)"
      ],
      "execution_count": 0,
      "outputs": [
        {
          "output_type": "stream",
          "text": [
            "[1. 1. 1. ... 2. 4. 1.]\n"
          ],
          "name": "stdout"
        }
      ]
    },
    {
      "cell_type": "code",
      "metadata": {
        "id": "s708KhR8JEQF",
        "colab_type": "code",
        "outputId": "eee152de-a5d1-4932-aaed-30d8ad896597",
        "colab": {
          "base_uri": "https://localhost:8080/",
          "height": 34
        }
      },
      "source": [
        "from sklearn.model_selection import train_test_split\n",
        "#test and train data splitting\n",
        "X_train, X_test, y_train, y_test = train_test_split( X, Y1, test_size=0.2, random_state=42)\n",
        "print(len(X_train))\n",
        "\n",
        "from keras.models import Sequential\n",
        "from keras.layers import Dense\n"
      ],
      "execution_count": 0,
      "outputs": [
        {
          "output_type": "stream",
          "text": [
            "196872\n"
          ],
          "name": "stdout"
        }
      ]
    },
    {
      "cell_type": "code",
      "metadata": {
        "id": "lEB9JkNHJmQq",
        "colab_type": "code",
        "outputId": "6d0abc9b-a844-4a97-b709-96a3b042c273",
        "colab": {
          "base_uri": "https://localhost:8080/",
          "height": 731
        }
      },
      "source": [
        "#model\n",
        "model = Sequential()\n",
        "model.add(Dense(12, input_dim=4, activation='relu'))\n",
        "model.add(Dense(8, activation='relu'))\n",
        "model.add(Dense(1, activation='sigmoid'))\n",
        "model.compile(loss='binary_crossentropy', optimizer='adam', metrics=['accuracy'])\n",
        "model.fit(X_train, y_train, epochs=20, batch_size=100)\n",
        "_, accuracy = model.evaluate(X_test, y_test)\n",
        "print('Accuracy: %.2f' % (accuracy*100))"
      ],
      "execution_count": 0,
      "outputs": [
        {
          "output_type": "stream",
          "text": [
            "Epoch 1/20\n",
            "196872/196872 [==============================] - 3s 14us/step - loss: -4.7757 - acc: 0.7804\n",
            "Epoch 2/20\n",
            "196872/196872 [==============================] - 3s 13us/step - loss: -5.3730 - acc: 0.7836\n",
            "Epoch 3/20\n",
            "196872/196872 [==============================] - 3s 13us/step - loss: -5.3730 - acc: 0.7836\n",
            "Epoch 4/20\n",
            "196872/196872 [==============================] - 3s 14us/step - loss: -5.3730 - acc: 0.7836\n",
            "Epoch 5/20\n",
            "196872/196872 [==============================] - 3s 14us/step - loss: -5.3730 - acc: 0.7836\n",
            "Epoch 6/20\n",
            "196872/196872 [==============================] - 3s 13us/step - loss: -5.3730 - acc: 0.7836\n",
            "Epoch 7/20\n",
            "196872/196872 [==============================] - 3s 13us/step - loss: -5.3730 - acc: 0.7836\n",
            "Epoch 8/20\n",
            "196872/196872 [==============================] - 3s 13us/step - loss: -5.3730 - acc: 0.7836\n",
            "Epoch 9/20\n",
            "196872/196872 [==============================] - 3s 13us/step - loss: -5.3730 - acc: 0.7836\n",
            "Epoch 10/20\n",
            "196872/196872 [==============================] - 3s 13us/step - loss: -5.3730 - acc: 0.7836\n",
            "Epoch 11/20\n",
            "196872/196872 [==============================] - 3s 15us/step - loss: -5.3730 - acc: 0.7836\n",
            "Epoch 12/20\n",
            "196872/196872 [==============================] - 3s 15us/step - loss: -5.3730 - acc: 0.7836\n",
            "Epoch 13/20\n",
            "196872/196872 [==============================] - 3s 14us/step - loss: -5.3730 - acc: 0.7836\n",
            "Epoch 14/20\n",
            "196872/196872 [==============================] - 3s 13us/step - loss: -5.3730 - acc: 0.7836\n",
            "Epoch 15/20\n",
            "196872/196872 [==============================] - 3s 13us/step - loss: -5.3730 - acc: 0.7836\n",
            "Epoch 16/20\n",
            "196872/196872 [==============================] - 3s 13us/step - loss: -5.3730 - acc: 0.7836\n",
            "Epoch 17/20\n",
            "196872/196872 [==============================] - 3s 13us/step - loss: -5.3730 - acc: 0.7836\n",
            "Epoch 18/20\n",
            "196872/196872 [==============================] - 3s 13us/step - loss: -5.3730 - acc: 0.7836\n",
            "Epoch 19/20\n",
            "196872/196872 [==============================] - 3s 13us/step - loss: -5.3730 - acc: 0.7836\n",
            "Epoch 20/20\n",
            "196872/196872 [==============================] - 3s 13us/step - loss: -5.3730 - acc: 0.7836\n",
            "49219/49219 [==============================] - 1s 20us/step\n",
            "Accuracy: 78.83\n"
          ],
          "name": "stdout"
        }
      ]
    },
    {
      "cell_type": "code",
      "metadata": {
        "id": "tWHJ4FQ8xO0A",
        "colab_type": "code",
        "outputId": "7587cac9-4cfc-4869-c885-e514c1f7e5fe",
        "colab": {
          "base_uri": "https://localhost:8080/",
          "height": 34
        }
      },
      "source": [
        "#getting a response from the chatbot\n",
        "response = chatbot.get_response(\"how r u\")\n",
        "print(response)"
      ],
      "execution_count": 0,
      "outputs": [
        {
          "output_type": "stream",
          "text": [
            "I'm doing great.\n"
          ],
          "name": "stdout"
        }
      ]
    },
    {
      "cell_type": "code",
      "metadata": {
        "id": "MGlDO9GEOrJR",
        "colab_type": "code",
        "colab": {}
      },
      "source": [
        "import requests\n",
        "import random\n",
        "from datetime import datetime\n",
        "def pred_season(state):\n",
        "  # url for weather of current state \n",
        "  wiki = \"https://www.google.com/search?q=weather%20prediction%20\"+state\n",
        "  \n",
        "  import time\n",
        "  page=requests.get(wiki).text\n",
        "  \n",
        "  #Beautifulsoup is used for parsing the html document\n",
        "  from bs4 import BeautifulSoup\n",
        "  soup = BeautifulSoup(page, 'html.parser')\n",
        "  \n",
        "  #div storing the current temperature of the state accordin to google\n",
        "  div=soup.find('div',{'class':'BNeawe iBp4i AP7Wnd'})\n",
        "  #print(div)\n",
        "\n",
        "  temp=div.get_text()\n",
        "  temp=int(temp.translate({ord(i): None for i in '°F'}))\n",
        "  \n",
        "  # current date and time\n",
        "  now = datetime.now() \n",
        "  year = now.strftime(\"%Y\")\n",
        "  month = now.strftime(\"%m\")\n",
        "  \n",
        "  season=0\n",
        "  month=int(month)\n",
        "  if(temp >68 and temp<80):\n",
        "    print('Rabi')\n",
        "    season=2\n",
        "  elif(temp>60 and temp<68 and month >5 and month< 7):\n",
        "    print('kharif')\n",
        "    season=1\n",
        "  elif month<=12 and month >=9:\n",
        "    print('Autumn')\n",
        "    season =0\n",
        "  elif month<=8 and month>=5:\n",
        "    print('Summer')\n",
        "    season=3\n",
        "  elif month in[1,12]:\n",
        "    print('Winter')\n",
        "    season=5\n",
        "  else:\n",
        "    print('Whole Year')\n",
        "    season=4\n",
        "  return season\n",
        "\n",
        "def crops_pred(state,district,season):\n",
        "  l1=list()\n",
        "  l2=list()\n",
        "  l3=list()\n",
        "  l4=list()\n",
        "\n",
        "  # total 124 crops are there and we predict the production with all the crops to determoine the highest production crops that the farmer should sow \n",
        "  for i in range(124):\n",
        "    inp=np.array([[state,district,season,i]])\n",
        "    k=model.predict(inp)\n",
        "    k=k[0][0]\n",
        "    if(k==4):\n",
        "      l4.append(i)\n",
        "    elif(k==3):\n",
        "      l3.append(i)\n",
        "    elif(k==2):\n",
        "      l2.append(i)\n",
        "    elif(k==1):\n",
        "      l1.append(i)\n",
        "  cnt=0\n",
        "  random.shuffle(l4)\n",
        "  random.shuffle(l3)\n",
        "  random.shuffle(l2)\n",
        "  random.shuffle(l1)\n",
        "  for i in l4:\n",
        "    cnt+=1\n",
        "    if cnt<=5:\n",
        "      print(one_hot_crop(i))\n",
        "  for i in l3:\n",
        "    cnt+=1\n",
        "    if cnt<=5:\n",
        "      print(one_hot_crop(i))\n",
        "  for i in l2:\n",
        "    cnt+=1\n",
        "    if cnt<=5:\n",
        "      print(one_hot_crop(i))\n",
        "  for i in l1:\n",
        "    cnt+=1\n",
        "    if cnt<=5:\n",
        "      print(one_hot_crop(i))"
      ],
      "execution_count": 0,
      "outputs": []
    },
    {
      "cell_type": "code",
      "metadata": {
        "id": "tRD8iMr2P1um",
        "colab_type": "code",
        "colab": {}
      },
      "source": [
        "def get_one_hotSTATE(state):\n",
        "  state= np.where(states==state)\n",
        "  return state[0][0]\n",
        "def get_one_hotDISTRICT(district):               \n",
        "  dist = np.where(districts==district)\n",
        "  return dist[0][0]\n",
        "def one_hot_crop(crop):\n",
        "  return crops[crop]"
      ],
      "execution_count": 0,
      "outputs": []
    },
    {
      "cell_type": "code",
      "metadata": {
        "id": "EHwexxy5yjJZ",
        "colab_type": "code",
        "outputId": "f6a88fe2-958e-4598-a571-8c94d95fd700",
        "colab": {
          "base_uri": "https://localhost:8080/",
          "height": 442
        }
      },
      "source": [
        "resp=''\n",
        "cnt=0\n",
        "while(resp!='quit' and cnt<=1):\n",
        "  cnt+=1\n",
        "  resp=input('>>>')\n",
        "  if(resp!='quit'):\n",
        "    response = chatbot.get_response(resp)\n",
        "    print(response)\n",
        "if(resp!=quit):\n",
        "  print('In which state do you live')\n",
        "  state=input('>>>')\n",
        "  print('In which disrict do you live')\n",
        "  district=input('>>>')\n",
        "  season = pred_season(state)\n",
        "  print(\" is your season.\\n\\n\")\n",
        "  state = get_one_hotSTATE(state)\n",
        "  district = get_one_hotDISTRICT(district)\n",
        "  print(\"You can grow the following crops ccording to your informattion and current weather updates:\\n\")\n",
        "  crops_pred(state,district,season)\n",
        "  print(\"Are you satisfied ... ?\")\n",
        "while(resp!='quit' ):\n",
        "  resp=input('>>>')\n",
        "  if(resp!='quit'):\n",
        "    response = chatbot.get_response(resp)\n",
        "    print(response)\n"
      ],
      "execution_count": 0,
      "outputs": [
        {
          "output_type": "stream",
          "text": [
            ">>>HI\n",
            "hello\n",
            ">>>how are you doing\n",
            "Replying you :D\n",
            "In which state do you live\n",
            ">>>Rajasthan\n",
            "In which disrict do you live\n",
            ">>>AJMER\n",
            "Autumn\n",
            " is your season.\n",
            "\n",
            "\n",
            "You can grow the following crops ccording to your informattion and current weather updates:\n",
            "\n",
            "Bajra\n",
            "Varagu\n",
            "Grapes\n",
            "Samai\n",
            "Bean\n",
            "Are you satisfied ... ?\n",
            ">>>yes\n",
            "who are you\n",
            ">>>Priya\n",
            "WHAT IS Snak Guard\n",
            ">>>quit\n"
          ],
          "name": "stdout"
        }
      ]
    },
    {
      "cell_type": "code",
      "metadata": {
        "id": "hwpu1Jwfa-ES",
        "colab_type": "code",
        "colab": {}
      },
      "source": [
        ""
      ],
      "execution_count": 0,
      "outputs": []
    }
  ]
}